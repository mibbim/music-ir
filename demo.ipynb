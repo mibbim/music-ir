{
 "cells": [
  {
   "cell_type": "markdown",
   "source": [
    "## Getting the data"
   ],
   "metadata": {
    "collapsed": false
   }
  },
  {
   "cell_type": "code",
   "execution_count": 1,
   "metadata": {
    "collapsed": true
   },
   "outputs": [],
   "source": [
    "import os\n",
    "from pathlib import Path\n",
    "\n",
    "cwd = os.getcwd()\n",
    "project_dir = Path(os.getcwd())\n",
    "zip_data_file = project_dir / \"data\" / \"fma_small.zip\"\n",
    "os.chdir(\"data\")\n",
    "if not zip_data_file.exists():\n",
    "    os.system(\"wget https://os.unil.cloud.switch.ch/fma/fma_small.zip\")\n",
    "# wget.download(\"https://os.unil.cloud.switch.ch/fma/fma_small.zip\",)# zip_data_file)\n",
    "# if \"data/fma_small.zip\n",
    "# ! wget https://os.unil.cloud.switch.ch/fma/fma_small.zip\n",
    "os.chdir(project_dir)"
   ]
  },
  {
   "cell_type": "code",
   "execution_count": 2,
   "outputs": [],
   "source": [
    "os.chdir(project_dir / \"data\")\n",
    "for i in range(30):\n",
    "    data_dir = f\"{i:03d}\"\n",
    "    foder_name = f\"fma_small/{data_dir}\"\n",
    "    if not Path(foder_name).exists():\n",
    "        # print(f\"unzip fma_small.zip {foder_name}\")\n",
    "        os.system(f\"unzip fma_small.zip {foder_name}/*\")\n",
    "os.chdir(project_dir)"
   ],
   "metadata": {
    "collapsed": false
   }
  },
  {
   "cell_type": "markdown",
   "source": [
    "## Building or retrieving the Corpus\n",
    "First execution may require tenth of minutes"
   ],
   "metadata": {
    "collapsed": false
   }
  },
  {
   "cell_type": "code",
   "execution_count": 3,
   "outputs": [],
   "source": [
    "from source.ListDictCorpus import ListDictCorpus\n",
    "from source.test_utils import select_random_song, get_first_30_ld_corpora\n",
    "from source.Corpus import find_song\n"
   ],
   "metadata": {
    "collapsed": false
   }
  },
  {
   "cell_type": "code",
   "execution_count": 4,
   "outputs": [],
   "source": [
    "ld_corpus: ListDictCorpus = get_first_30_ld_corpora(\n",
    "    skip_existing=True,\n",
    "    verbose=1,\n",
    "    fanout_window=10,\n",
    "    spec_window_size=1024,\n",
    "    spec_window_overlap_ratio=0.7,\n",
    ")"
   ],
   "metadata": {
    "collapsed": false
   }
  },
  {
   "cell_type": "markdown",
   "source": [
    "## Testing Accuracy"
   ],
   "metadata": {
    "collapsed": false
   }
  },
  {
   "cell_type": "code",
   "execution_count": 5,
   "outputs": [],
   "source": [
    "from tqdm.notebook import tqdm\n",
    "import numpy as np"
   ],
   "metadata": {
    "collapsed": false
   }
  },
  {
   "cell_type": "markdown",
   "source": [
    "### 30 folders corpus"
   ],
   "metadata": {
    "collapsed": false
   }
  },
  {
   "cell_type": "markdown",
   "source": [
    "Investigating the corpus"
   ],
   "metadata": {
    "collapsed": false
   }
  },
  {
   "cell_type": "code",
   "execution_count": 6,
   "outputs": [
    {
     "name": "stdout",
     "output_type": "stream",
     "text": [
      "\n",
      "    number of songs: 1242\n",
      "    number of hashes: 1893567\n",
      "    average anchor point per hash: 5.839939648293406\n",
      "    max anchor point per hash: 335\n",
      "    min anchor point per hash: 1\n",
      "\n"
     ]
    }
   ],
   "source": [
    "print(ld_corpus.info())"
   ],
   "metadata": {
    "collapsed": false
   }
  },
  {
   "cell_type": "code",
   "execution_count": 7,
   "outputs": [
    {
     "data": {
      "text/plain": "  0%|          | 0/100 [00:00<?, ?it/s]",
      "application/vnd.jupyter.widget-view+json": {
       "version_major": 2,
       "version_minor": 0,
       "model_id": "eb835525daa44441a82d6433f4629e7f"
      }
     },
     "metadata": {},
     "output_type": "display_data"
    },
    {
     "name": "stdout",
     "output_type": "stream",
     "text": [
      "000615.mp3 not found\n",
      "Accuracy: 0.99\n"
     ]
    }
   ],
   "source": [
    "n_test = 100\n",
    "wrong = 0\n",
    "not_found = 0\n",
    "for _ in tqdm(range(n_test)):\n",
    "    song = select_random_song()\n",
    "    retrieved, _, _ = find_song(Path(\"..\") / song, corpus=ld_corpus, verbose=False)\n",
    "    if retrieved is None:\n",
    "        not_found += 1\n",
    "        print(f\"{song.name} not found\")\n",
    "        continue\n",
    "    if song.name != retrieved.name:\n",
    "        wrong += 1\n",
    "        print(f\"{song.name} incorrect retrieved\")\n",
    "print(f\"Accuracy: {1 - (wrong + not_found) / n_test}\")"
   ],
   "metadata": {
    "collapsed": false
   }
  },
  {
   "cell_type": "markdown",
   "source": [
    "### Single Folder (faster test)"
   ],
   "metadata": {
    "collapsed": false
   }
  },
  {
   "cell_type": "code",
   "execution_count": 8,
   "outputs": [],
   "source": [
    "corpus_0 = ListDictCorpus(\n",
    "    fanout_window=10,\n",
    "    spec_window_size=1024,\n",
    "    spec_window_overlap_ratio=0.7)"
   ],
   "metadata": {
    "collapsed": false
   }
  },
  {
   "cell_type": "markdown",
   "source": [],
   "metadata": {
    "collapsed": false
   }
  },
  {
   "cell_type": "code",
   "execution_count": 9,
   "outputs": [
    {
     "data": {
      "text/plain": "  0%|          | 0/62 [00:00<?, ?it/s]",
      "application/vnd.jupyter.widget-view+json": {
       "version_major": 2,
       "version_minor": 0,
       "model_id": "76432bea6fba4661899c10cd6b33011c"
      }
     },
     "metadata": {},
     "output_type": "display_data"
    }
   ],
   "source": [
    "data_dir = project_dir / \"data/fma_small/000\"\n",
    "for song in tqdm(os.listdir(data_dir)):\n",
    "    corpus_0.add_song(data_dir / song)"
   ],
   "metadata": {
    "collapsed": false
   }
  },
  {
   "cell_type": "code",
   "execution_count": 10,
   "outputs": [
    {
     "name": "stdout",
     "output_type": "stream",
     "text": [
      "\n",
      "    number of songs: 62\n",
      "    number of hashes: 467129\n",
      "    average anchor point per hash: 1.330733052326017\n",
      "    max anchor point per hash: 29\n",
      "    min anchor point per hash: 1\n",
      "\n"
     ]
    }
   ],
   "source": [
    "print(corpus_0.info())"
   ],
   "metadata": {
    "collapsed": false
   }
  },
  {
   "cell_type": "code",
   "execution_count": 11,
   "outputs": [
    {
     "data": {
      "text/plain": "  0%|          | 0/100 [00:00<?, ?it/s]",
      "application/vnd.jupyter.widget-view+json": {
       "version_major": 2,
       "version_minor": 0,
       "model_id": "668206902a34440e8006fb29c31f5ab9"
      }
     },
     "metadata": {},
     "output_type": "display_data"
    },
    {
     "name": "stdout",
     "output_type": "stream",
     "text": [
      "Accuracy: 1.0\n"
     ]
    }
   ],
   "source": [
    "n_test = 100\n",
    "wrong = not_found = 0\n",
    "for _ in tqdm(range(n_test)):\n",
    "    data_dir = project_dir / \"data/fma_small/000\"\n",
    "    song = data_dir / np.random.choice(os.listdir(data_dir))\n",
    "    retrieved, _, _ = find_song(song, corpus_0)\n",
    "    # if retrieved is None:\n",
    "    #     not_found += 1\n",
    "    #     print(f\"{song.name} not found\")\n",
    "    if song.name != retrieved.name:\n",
    "        wrong += 0\n",
    "        print(f\"{song.name} incorrect retrieved\")\n",
    "print(f\"Accuracy: {1 - (wrong + not_found) / n_test}\")"
   ],
   "metadata": {
    "collapsed": false
   }
  },
  {
   "cell_type": "markdown",
   "source": [
    "## Retrieval time"
   ],
   "metadata": {
    "collapsed": false
   }
  },
  {
   "cell_type": "code",
   "execution_count": 12,
   "outputs": [
    {
     "name": "stdout",
     "output_type": "stream",
     "text": [
      "\n",
      "    number of songs: 1242\n",
      "    number of hashes: 1893567\n",
      "    average anchor point per hash: 5.839939648293406\n",
      "    max anchor point per hash: 335\n",
      "    min anchor point per hash: 1\n",
      "\n"
     ]
    }
   ],
   "source": [
    "print(ld_corpus.info())"
   ],
   "metadata": {
    "collapsed": false
   }
  },
  {
   "cell_type": "code",
   "execution_count": 14,
   "outputs": [
    {
     "name": "stdout",
     "output_type": "stream",
     "text": [
      "126 ms ± 2.12 ms per loop (mean ± std. dev. of 7 runs, 10 loops each)\n"
     ]
    }
   ],
   "source": [
    "%%timeit\n",
    "find_song(project_dir / \"data/fma_small/000/000190.mp3\", ld_corpus)"
   ],
   "metadata": {
    "collapsed": false
   }
  },
  {
   "cell_type": "code",
   "execution_count": 15,
   "outputs": [
    {
     "name": "stdout",
     "output_type": "stream",
     "text": [
      "\n",
      "    number of songs: 62\n",
      "    number of hashes: 467129\n",
      "    average anchor point per hash: 1.330733052326017\n",
      "    max anchor point per hash: 29\n",
      "    min anchor point per hash: 1\n",
      "\n"
     ]
    }
   ],
   "source": [
    "print(corpus_0.info())"
   ],
   "metadata": {
    "collapsed": false
   }
  },
  {
   "cell_type": "code",
   "execution_count": 16,
   "outputs": [
    {
     "name": "stdout",
     "output_type": "stream",
     "text": [
      "116 ms ± 307 µs per loop (mean ± std. dev. of 7 runs, 10 loops each)\n"
     ]
    }
   ],
   "source": [
    "%%timeit\n",
    "find_song(project_dir / \"data/fma_small/000/000190.mp3\", corpus_0)"
   ],
   "metadata": {
    "collapsed": false
   }
  },
  {
   "cell_type": "markdown",
   "source": [
    "## Test for Noise"
   ],
   "metadata": {
    "collapsed": false
   }
  },
  {
   "cell_type": "code",
   "execution_count": 17,
   "outputs": [],
   "source": [
    "from source.load_utils import load_mp3\n",
    "from numpy import random\n",
    "\n",
    "rng = random.default_rng()"
   ],
   "metadata": {
    "collapsed": false
   }
  },
  {
   "cell_type": "code",
   "execution_count": 18,
   "outputs": [],
   "source": [
    "def find_random_song_with_noise(std_ratio=0.1, corpus=ld_corpus):\n",
    "    song = select_random_song()\n",
    "    signal, sr = load_mp3(song)\n",
    "    mean, std = np.mean(signal), np.std(signal)\n",
    "    ld_corpus.recognize(signal, sr)\n",
    "    noise = rng.normal(scale=std_ratio * std, size=signal.shape)\n",
    "    signal += noise\n",
    "    return *corpus.recognize(signal, sr), song\n",
    "\n"
   ],
   "metadata": {
    "collapsed": false
   }
  },
  {
   "cell_type": "code",
   "execution_count": 19,
   "outputs": [
    {
     "data": {
      "text/plain": "(PosixPath('/home/mb/IdeaProjects/music-ir/data/fma_small/027/027258.mp3'),\n 1.0253240880313537,\n 0)"
     },
     "execution_count": 19,
     "metadata": {},
     "output_type": "execute_result"
    }
   ],
   "source": [
    "song = select_random_song()\n",
    "\n",
    "signal, sr = load_mp3(song)\n",
    "mean, std = np.mean(signal), np.std(signal)\n",
    "ld_corpus.recognize(signal, sr)"
   ],
   "metadata": {
    "collapsed": false
   }
  },
  {
   "cell_type": "markdown",
   "source": [
    "### Noise_std = 0.1 signal_std"
   ],
   "metadata": {
    "collapsed": false
   }
  },
  {
   "cell_type": "code",
   "execution_count": 22,
   "outputs": [
    {
     "data": {
      "text/plain": "  0%|          | 0/500 [00:00<?, ?it/s]",
      "application/vnd.jupyter.widget-view+json": {
       "version_major": 2,
       "version_minor": 0,
       "model_id": "595a86e2e2054747aa2504c896babfca"
      }
     },
     "metadata": {},
     "output_type": "display_data"
    },
    {
     "name": "stdout",
     "output_type": "stream",
     "text": [
      "027797.mp3 not found\n",
      "027797.mp3 not found\n",
      "028274.mp3 not found\n",
      "025215.mp3 not found\n",
      "025032.mp3 not found\n",
      "025216.mp3 not found\n",
      "030196.mp3 not found\n",
      "024746.mp3 not found\n",
      "014570.mp3 not found\n",
      "025232.mp3 not found\n",
      "021058.mp3 not found\n",
      "025033.mp3 not found\n",
      "025215.mp3 not found\n",
      "010382.mp3 not found\n",
      "025232.mp3 not found\n",
      "025227.mp3 not found\n",
      "025029.mp3 not found\n",
      "025233.mp3 not found\n",
      "025033.mp3 not found\n",
      "027797.mp3 not found\n",
      "001197.mp3 not found\n",
      "025234.mp3 not found\n",
      "025232.mp3 not found\n",
      "025232.mp3 not found\n",
      "019422.mp3 not found\n",
      "Accuracy: 0.95\n"
     ]
    }
   ],
   "source": [
    "n_test = 500\n",
    "wrong = 0\n",
    "not_found = 0\n",
    "noise_ratio = 0.1\n",
    "for _ in tqdm(range(n_test)):\n",
    "    retrieved, *_, song = find_random_song_with_noise()\n",
    "    if retrieved is None:\n",
    "        not_found += 1\n",
    "        print(f\"{song.name} not found\")\n",
    "        continue\n",
    "    if song.name != retrieved.name:\n",
    "        wrong += 1\n",
    "        print(f\"{song.name} incorrect retrieved\")\n",
    "print(f\"Accuracy: {1 - (wrong + not_found) / n_test}\")"
   ],
   "metadata": {
    "collapsed": false
   }
  },
  {
   "cell_type": "markdown",
   "source": [],
   "metadata": {
    "collapsed": false
   }
  },
  {
   "cell_type": "code",
   "execution_count": 23,
   "outputs": [
    {
     "data": {
      "text/plain": "  0%|          | 0/500 [00:00<?, ?it/s]",
      "application/vnd.jupyter.widget-view+json": {
       "version_major": 2,
       "version_minor": 0,
       "model_id": "45d56524b0c3436a89dfc637dd050dc5"
      }
     },
     "metadata": {},
     "output_type": "display_data"
    },
    {
     "name": "stdout",
     "output_type": "stream",
     "text": [
      "024217.mp3 not found\n",
      "015540.mp3 not found\n",
      "010676.mp3 not found\n",
      "027797.mp3 not found\n",
      "010668.mp3 not found\n",
      "025796.mp3 not found\n",
      "017462.mp3 not found\n",
      "002096.mp3 not found\n",
      "007713.mp3 not found\n",
      "005940.mp3 not found\n",
      "026657.mp3 not found\n",
      "008357.mp3 not found\n",
      "002097.mp3 not found\n",
      "005159.mp3 not found\n",
      "008345.mp3 not found\n",
      "026639.mp3 not found\n",
      "006407.mp3 not found\n",
      "028571.mp3 not found\n",
      "009155.mp3 not found\n",
      "025215.mp3 not found\n",
      "002096.mp3 not found\n",
      "008357.mp3 not found\n",
      "026307.mp3 not found\n",
      "007487.mp3 not found\n",
      "003912.mp3 not found\n",
      "016354.mp3 not found\n",
      "019412.mp3 not found\n",
      "004037.mp3 not found\n",
      "023016.mp3 not found\n",
      "002096.mp3 not found\n",
      "002096.mp3 not found\n",
      "001195.mp3 not found\n",
      "010382.mp3 not found\n",
      "007711.mp3 not found\n",
      "024431.mp3 not found\n",
      "001082.mp3 not found\n",
      "029041.mp3 not found\n",
      "024216.mp3 not found\n",
      "024422.mp3 not found\n",
      "015475.mp3 not found\n",
      "010375.mp3 not found\n",
      "028548.mp3 not found\n",
      "023155.mp3 not found\n",
      "025032.mp3 not found\n",
      "022150.mp3 not found\n",
      "014570.mp3 not found\n",
      "017573.mp3 not found\n",
      "030702.mp3 not found\n",
      "001276.mp3 not found\n",
      "003273.mp3 not found\n",
      "024427.mp3 not found\n",
      "025233.mp3 not found\n",
      "001082.mp3 not found\n",
      "003534.mp3 not found\n",
      "006373.mp3 not found\n",
      "025028.mp3 not found\n",
      "027456.mp3 not found\n",
      "016994.mp3 not found\n",
      "002097.mp3 not found\n",
      "005159.mp3 not found\n",
      "009888.mp3 not found\n",
      "010527.mp3 not found\n",
      "015471.mp3 not found\n",
      "012352.mp3 not found\n",
      "001196.mp3 not found\n",
      "010439.mp3 not found\n",
      "000213.mp3 not found\n",
      "024742.mp3 not found\n",
      "024745.mp3 not found\n",
      "024717.mp3 not found\n",
      "029043.mp3 not found\n",
      "000140.mp3 not found\n",
      "000814.mp3 not found\n",
      "012486.mp3 not found\n",
      "005936.mp3 not found\n",
      "002096.mp3 not found\n",
      "024217.mp3 not found\n",
      "016994.mp3 not found\n",
      "007711.mp3 not found\n",
      "022150.mp3 not found\n",
      "024217.mp3 not found\n",
      "003906.mp3 not found\n",
      "019417.mp3 not found\n",
      "027552.mp3 not found\n",
      "016158.mp3 not found\n",
      "010458.mp3 not found\n",
      "010577.mp3 not found\n",
      "010684.mp3 not found\n",
      "007711.mp3 not found\n",
      "005376.mp3 not found\n",
      "Accuracy: 0.8200000000000001\n"
     ]
    }
   ],
   "source": [
    "n_test = 500\n",
    "wrong = 0\n",
    "not_found = 0\n",
    "noise_ratio = 0.5\n",
    "for _ in tqdm(range(n_test)):\n",
    "    retrieved, *_, song = find_random_song_with_noise(std_ratio=noise_ratio)\n",
    "    if retrieved is None:\n",
    "        not_found += 1\n",
    "        print(f\"{song.name} not found\")\n",
    "        continue\n",
    "    if song.name != retrieved.name:\n",
    "        wrong += 1\n",
    "        print(f\"{song.name} incorrect retrieved\")\n",
    "print(f\"Accuracy: {1 - (wrong + not_found) / n_test}\")"
   ],
   "metadata": {
    "collapsed": false
   }
  },
  {
   "cell_type": "code",
   "execution_count": 21,
   "outputs": [],
   "source": [],
   "metadata": {
    "collapsed": false
   }
  }
 ],
 "metadata": {
  "kernelspec": {
   "display_name": "Python 3",
   "language": "python",
   "name": "python3"
  },
  "language_info": {
   "codemirror_mode": {
    "name": "ipython",
    "version": 2
   },
   "file_extension": ".py",
   "mimetype": "text/x-python",
   "name": "python",
   "nbconvert_exporter": "python",
   "pygments_lexer": "ipython2",
   "version": "2.7.6"
  }
 },
 "nbformat": 4,
 "nbformat_minor": 0
}
